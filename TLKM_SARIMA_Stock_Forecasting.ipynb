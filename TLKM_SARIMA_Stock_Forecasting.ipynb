{
  "cells": [
    {
      "cell_type": "markdown",
      "metadata": {
        "id": "view-in-github",
        "colab_type": "text"
      },
      "source": [
        "<a href=\"https://colab.research.google.com/github/TerryHilario/TerryHilario/blob/main/TLKM_SARIMA_Stock_Forecasting.ipynb\" target=\"_parent\"><img src=\"https://colab.research.google.com/assets/colab-badge.svg\" alt=\"Open In Colab\"/></a>"
      ]
    },
    {
      "cell_type": "code",
      "execution_count": null,
      "metadata": {
        "id": "v_8yY2MU-Ch1",
        "colab": {
          "base_uri": "https://localhost:8080/"
        },
        "outputId": "e2c873b3-f4dc-4323-b0fb-9d75d7e66adb"
      },
      "outputs": [
        {
          "output_type": "stream",
          "name": "stdout",
          "text": [
            "Looking in indexes: https://pypi.org/simple, https://us-python.pkg.dev/colab-wheels/public/simple/\n",
            "Requirement already satisfied: fbprophet in /usr/local/lib/python3.7/dist-packages (0.7.1)\n",
            "Requirement already satisfied: Cython>=0.22 in /usr/local/lib/python3.7/dist-packages (from fbprophet) (0.29.30)\n",
            "Requirement already satisfied: cmdstanpy==0.9.5 in /usr/local/lib/python3.7/dist-packages (from fbprophet) (0.9.5)\n",
            "Requirement already satisfied: pystan>=2.14 in /usr/local/lib/python3.7/dist-packages (from fbprophet) (2.19.1.1)\n",
            "Requirement already satisfied: numpy>=1.15.4 in /usr/local/lib/python3.7/dist-packages (from fbprophet) (1.21.6)\n",
            "Requirement already satisfied: pandas>=1.0.4 in /usr/local/lib/python3.7/dist-packages (from fbprophet) (1.3.5)\n",
            "Requirement already satisfied: matplotlib>=2.0.0 in /usr/local/lib/python3.7/dist-packages (from fbprophet) (3.2.2)\n",
            "Requirement already satisfied: LunarCalendar>=0.0.9 in /usr/local/lib/python3.7/dist-packages (from fbprophet) (0.0.9)\n",
            "Requirement already satisfied: convertdate>=2.1.2 in /usr/local/lib/python3.7/dist-packages (from fbprophet) (2.4.0)\n",
            "Requirement already satisfied: holidays>=0.10.2 in /usr/local/lib/python3.7/dist-packages (from fbprophet) (0.10.5.2)\n",
            "Requirement already satisfied: setuptools-git>=1.2 in /usr/local/lib/python3.7/dist-packages (from fbprophet) (1.2)\n",
            "Requirement already satisfied: python-dateutil>=2.8.0 in /usr/local/lib/python3.7/dist-packages (from fbprophet) (2.8.2)\n",
            "Requirement already satisfied: tqdm>=4.36.1 in /usr/local/lib/python3.7/dist-packages (from fbprophet) (4.64.0)\n",
            "Requirement already satisfied: pymeeus<=1,>=0.3.13 in /usr/local/lib/python3.7/dist-packages (from convertdate>=2.1.2->fbprophet) (0.5.11)\n",
            "Requirement already satisfied: hijri-converter in /usr/local/lib/python3.7/dist-packages (from holidays>=0.10.2->fbprophet) (2.2.3)\n",
            "Requirement already satisfied: six in /usr/local/lib/python3.7/dist-packages (from holidays>=0.10.2->fbprophet) (1.15.0)\n",
            "Requirement already satisfied: korean-lunar-calendar in /usr/local/lib/python3.7/dist-packages (from holidays>=0.10.2->fbprophet) (0.2.1)\n",
            "Requirement already satisfied: ephem>=3.7.5.3 in /usr/local/lib/python3.7/dist-packages (from LunarCalendar>=0.0.9->fbprophet) (4.1.3)\n",
            "Requirement already satisfied: pytz in /usr/local/lib/python3.7/dist-packages (from LunarCalendar>=0.0.9->fbprophet) (2022.1)\n",
            "Requirement already satisfied: pyparsing!=2.0.4,!=2.1.2,!=2.1.6,>=2.0.1 in /usr/local/lib/python3.7/dist-packages (from matplotlib>=2.0.0->fbprophet) (3.0.9)\n",
            "Requirement already satisfied: cycler>=0.10 in /usr/local/lib/python3.7/dist-packages (from matplotlib>=2.0.0->fbprophet) (0.11.0)\n",
            "Requirement already satisfied: kiwisolver>=1.0.1 in /usr/local/lib/python3.7/dist-packages (from matplotlib>=2.0.0->fbprophet) (1.4.2)\n",
            "Requirement already satisfied: typing-extensions in /usr/local/lib/python3.7/dist-packages (from kiwisolver>=1.0.1->matplotlib>=2.0.0->fbprophet) (4.2.0)\n",
            "Looking in indexes: https://pypi.org/simple, https://us-python.pkg.dev/colab-wheels/public/simple/\n",
            "Requirement already satisfied: statsmodels in /usr/local/lib/python3.7/dist-packages (0.13.2)\n",
            "Requirement already satisfied: packaging>=21.3 in /usr/local/lib/python3.7/dist-packages (from statsmodels) (21.3)\n",
            "Requirement already satisfied: scipy>=1.3 in /usr/local/lib/python3.7/dist-packages (from statsmodels) (1.4.1)\n",
            "Requirement already satisfied: pandas>=0.25 in /usr/local/lib/python3.7/dist-packages (from statsmodels) (1.3.5)\n",
            "Requirement already satisfied: patsy>=0.5.2 in /usr/local/lib/python3.7/dist-packages (from statsmodels) (0.5.2)\n",
            "Requirement already satisfied: numpy>=1.17 in /usr/local/lib/python3.7/dist-packages (from statsmodels) (1.21.6)\n",
            "Requirement already satisfied: pyparsing!=3.0.5,>=2.0.2 in /usr/local/lib/python3.7/dist-packages (from packaging>=21.3->statsmodels) (3.0.9)\n",
            "Requirement already satisfied: python-dateutil>=2.7.3 in /usr/local/lib/python3.7/dist-packages (from pandas>=0.25->statsmodels) (2.8.2)\n",
            "Requirement already satisfied: pytz>=2017.3 in /usr/local/lib/python3.7/dist-packages (from pandas>=0.25->statsmodels) (2022.1)\n",
            "Requirement already satisfied: six in /usr/local/lib/python3.7/dist-packages (from patsy>=0.5.2->statsmodels) (1.15.0)\n",
            "Looking in indexes: https://pypi.org/simple, https://us-python.pkg.dev/colab-wheels/public/simple/\n",
            "Requirement already satisfied: colorama in /usr/local/lib/python3.7/dist-packages (0.4.4)\n"
          ]
        }
      ],
      "source": [
        "!pip install fbprophet\n",
        "!pip install -U statsmodels\n",
        "!pip install colorama"
      ]
    },
    {
      "cell_type": "code",
      "execution_count": null,
      "metadata": {
        "colab": {
          "base_uri": "https://localhost:8080/"
        },
        "id": "bPmwYJLt9fDD",
        "outputId": "a9997258-c2d5-4e6f-8ed9-66330fc9f3be"
      },
      "outputs": [
        {
          "output_type": "execute_result",
          "data": {
            "text/plain": [
              "<contextlib._GeneratorContextManager at 0x7f6f12e29a10>"
            ]
          },
          "metadata": {},
          "execution_count": 7
        }
      ],
      "source": [
        "import pandas as pd\n",
        "import numpy as np\n",
        "import matplotlib.pyplot as plt\n",
        "import seaborn as sns\n",
        "import numpy as np\n",
        "from statsmodels.tsa.seasonal import seasonal_decompose as sd\n",
        "from scipy import stats \n",
        "from statsmodels.graphics.gofplots import qqplot as qq\n",
        "from scipy.stats import kurtosis\n",
        "import scipy\n",
        "from statsmodels.tsa.stattools import adfuller\n",
        "from pylab import rcParams\n",
        "from statsmodels.graphics.tsaplots import plot_acf,plot_pacf\n",
        "from pandas.core.window.rolling import Rolling\n",
        "from sklearn.model_selection import train_test_split as split\n",
        "from statsmodels.tsa.arima_model import ARIMA\n",
        "from statsmodels.tsa.statespace.sarimax import SARIMAX\n",
        "import statsmodels.api as sm\n",
        "import warnings\n",
        "import itertools\n",
        "warnings.filterwarnings(\"ignore\")\n",
        "from statsmodels.stats.diagnostic import acorr_ljungbox\n",
        "from sklearn.metrics import mean_squared_error, r2_score, mean_absolute_error, median_absolute_error, mean_squared_log_error\n",
        "from sklearn.model_selection import KFold, ShuffleSplit, StratifiedKFold, StratifiedShuffleSplit, TimeSeriesSplit\n",
        "from fbprophet import Prophet\n",
        "from IPython import display\n",
        "from matplotlib import pyplot\n",
        "import os\n",
        "import re\n",
        "from colorama import Fore, Back, Style\n",
        "import seaborn as sns\n",
        "import plotly.express as px\n",
        "import warnings\n",
        "from matplotlib.patches import Patch\n",
        "##Matplotlib Parameters\n",
        "import matplotlib.ticker as ticker\n",
        "rcParams['axes.labelsize'] = 12\n",
        "rcParams['xtick.labelsize'] = 12\n",
        "rcParams['ytick.labelsize'] = 12\n",
        "plt.style.context('fivethirtyeight')"
      ]
    },
    {
      "cell_type": "code",
      "execution_count": null,
      "metadata": {
        "id": "VoWGn_X4-LSX"
      },
      "outputs": [],
      "source": [
        "data = pd.read_csv('/content/TLKM.JK (1).csv')"
      ]
    },
    {
      "cell_type": "code",
      "execution_count": null,
      "metadata": {
        "colab": {
          "base_uri": "https://localhost:8080/"
        },
        "id": "EMb3SRLb-fdK",
        "outputId": "ece2f77e-9561-4ae1-8e03-349c61bc781b"
      },
      "outputs": [
        {
          "output_type": "stream",
          "name": "stdout",
          "text": [
            "<class 'pandas.core.frame.DataFrame'>\n",
            "RangeIndex: 767 entries, 0 to 766\n",
            "Data columns (total 7 columns):\n",
            " #   Column     Non-Null Count  Dtype  \n",
            "---  ------     --------------  -----  \n",
            " 0   Date       767 non-null    object \n",
            " 1   Open       767 non-null    float64\n",
            " 2   High       767 non-null    float64\n",
            " 3   Low        767 non-null    float64\n",
            " 4   Close      767 non-null    float64\n",
            " 5   Adj Close  767 non-null    float64\n",
            " 6   Volume     767 non-null    int64  \n",
            "dtypes: float64(5), int64(1), object(1)\n",
            "memory usage: 42.1+ KB\n"
          ]
        }
      ],
      "source": [
        "data.info()"
      ]
    },
    {
      "cell_type": "code",
      "execution_count": null,
      "metadata": {
        "colab": {
          "base_uri": "https://localhost:8080/",
          "height": 300
        },
        "id": "j7yIJgWa-qIB",
        "outputId": "06fabf1d-a334-4067-f4cb-d9f3515809a7"
      },
      "outputs": [
        {
          "output_type": "execute_result",
          "data": {
            "text/plain": [
              "              Open         High          Low        Close    Adj Close  \\\n",
              "count   767.000000   767.000000   767.000000   767.000000   767.000000   \n",
              "mean   3672.744459  3707.940026  3640.286832  3673.611473  3178.353329   \n",
              "std     666.149449   670.146505   661.824400   666.417781   615.850337   \n",
              "min    2550.000000  2605.000000  2485.000000  2600.000000  2220.499512   \n",
              "25%    2922.500000  2945.000000  2895.000000  2920.000000  2483.116577   \n",
              "50%    3860.000000  3890.000000  3830.000000  3850.000000  3319.130371   \n",
              "75%    4200.000000  4240.000000  4175.000000  4210.000000  3673.591430   \n",
              "max    4800.000000  4840.000000  4780.000000  4800.000000  4251.280273   \n",
              "\n",
              "             Volume  \n",
              "count  7.670000e+02  \n",
              "mean   8.424670e+07  \n",
              "std    4.824422e+07  \n",
              "min    0.000000e+00  \n",
              "25%    5.521425e+07  \n",
              "50%    7.664240e+07  \n",
              "75%    1.000681e+08  \n",
              "max    3.797257e+08  "
            ],
            "text/html": [
              "\n",
              "  <div id=\"df-904b4dc6-3b0c-4ada-baf1-ccea506491f2\">\n",
              "    <div class=\"colab-df-container\">\n",
              "      <div>\n",
              "<style scoped>\n",
              "    .dataframe tbody tr th:only-of-type {\n",
              "        vertical-align: middle;\n",
              "    }\n",
              "\n",
              "    .dataframe tbody tr th {\n",
              "        vertical-align: top;\n",
              "    }\n",
              "\n",
              "    .dataframe thead th {\n",
              "        text-align: right;\n",
              "    }\n",
              "</style>\n",
              "<table border=\"1\" class=\"dataframe\">\n",
              "  <thead>\n",
              "    <tr style=\"text-align: right;\">\n",
              "      <th></th>\n",
              "      <th>Open</th>\n",
              "      <th>High</th>\n",
              "      <th>Low</th>\n",
              "      <th>Close</th>\n",
              "      <th>Adj Close</th>\n",
              "      <th>Volume</th>\n",
              "    </tr>\n",
              "  </thead>\n",
              "  <tbody>\n",
              "    <tr>\n",
              "      <th>count</th>\n",
              "      <td>767.000000</td>\n",
              "      <td>767.000000</td>\n",
              "      <td>767.000000</td>\n",
              "      <td>767.000000</td>\n",
              "      <td>767.000000</td>\n",
              "      <td>7.670000e+02</td>\n",
              "    </tr>\n",
              "    <tr>\n",
              "      <th>mean</th>\n",
              "      <td>3672.744459</td>\n",
              "      <td>3707.940026</td>\n",
              "      <td>3640.286832</td>\n",
              "      <td>3673.611473</td>\n",
              "      <td>3178.353329</td>\n",
              "      <td>8.424670e+07</td>\n",
              "    </tr>\n",
              "    <tr>\n",
              "      <th>std</th>\n",
              "      <td>666.149449</td>\n",
              "      <td>670.146505</td>\n",
              "      <td>661.824400</td>\n",
              "      <td>666.417781</td>\n",
              "      <td>615.850337</td>\n",
              "      <td>4.824422e+07</td>\n",
              "    </tr>\n",
              "    <tr>\n",
              "      <th>min</th>\n",
              "      <td>2550.000000</td>\n",
              "      <td>2605.000000</td>\n",
              "      <td>2485.000000</td>\n",
              "      <td>2600.000000</td>\n",
              "      <td>2220.499512</td>\n",
              "      <td>0.000000e+00</td>\n",
              "    </tr>\n",
              "    <tr>\n",
              "      <th>25%</th>\n",
              "      <td>2922.500000</td>\n",
              "      <td>2945.000000</td>\n",
              "      <td>2895.000000</td>\n",
              "      <td>2920.000000</td>\n",
              "      <td>2483.116577</td>\n",
              "      <td>5.521425e+07</td>\n",
              "    </tr>\n",
              "    <tr>\n",
              "      <th>50%</th>\n",
              "      <td>3860.000000</td>\n",
              "      <td>3890.000000</td>\n",
              "      <td>3830.000000</td>\n",
              "      <td>3850.000000</td>\n",
              "      <td>3319.130371</td>\n",
              "      <td>7.664240e+07</td>\n",
              "    </tr>\n",
              "    <tr>\n",
              "      <th>75%</th>\n",
              "      <td>4200.000000</td>\n",
              "      <td>4240.000000</td>\n",
              "      <td>4175.000000</td>\n",
              "      <td>4210.000000</td>\n",
              "      <td>3673.591430</td>\n",
              "      <td>1.000681e+08</td>\n",
              "    </tr>\n",
              "    <tr>\n",
              "      <th>max</th>\n",
              "      <td>4800.000000</td>\n",
              "      <td>4840.000000</td>\n",
              "      <td>4780.000000</td>\n",
              "      <td>4800.000000</td>\n",
              "      <td>4251.280273</td>\n",
              "      <td>3.797257e+08</td>\n",
              "    </tr>\n",
              "  </tbody>\n",
              "</table>\n",
              "</div>\n",
              "      <button class=\"colab-df-convert\" onclick=\"convertToInteractive('df-904b4dc6-3b0c-4ada-baf1-ccea506491f2')\"\n",
              "              title=\"Convert this dataframe to an interactive table.\"\n",
              "              style=\"display:none;\">\n",
              "        \n",
              "  <svg xmlns=\"http://www.w3.org/2000/svg\" height=\"24px\"viewBox=\"0 0 24 24\"\n",
              "       width=\"24px\">\n",
              "    <path d=\"M0 0h24v24H0V0z\" fill=\"none\"/>\n",
              "    <path d=\"M18.56 5.44l.94 2.06.94-2.06 2.06-.94-2.06-.94-.94-2.06-.94 2.06-2.06.94zm-11 1L8.5 8.5l.94-2.06 2.06-.94-2.06-.94L8.5 2.5l-.94 2.06-2.06.94zm10 10l.94 2.06.94-2.06 2.06-.94-2.06-.94-.94-2.06-.94 2.06-2.06.94z\"/><path d=\"M17.41 7.96l-1.37-1.37c-.4-.4-.92-.59-1.43-.59-.52 0-1.04.2-1.43.59L10.3 9.45l-7.72 7.72c-.78.78-.78 2.05 0 2.83L4 21.41c.39.39.9.59 1.41.59.51 0 1.02-.2 1.41-.59l7.78-7.78 2.81-2.81c.8-.78.8-2.07 0-2.86zM5.41 20L4 18.59l7.72-7.72 1.47 1.35L5.41 20z\"/>\n",
              "  </svg>\n",
              "      </button>\n",
              "      \n",
              "  <style>\n",
              "    .colab-df-container {\n",
              "      display:flex;\n",
              "      flex-wrap:wrap;\n",
              "      gap: 12px;\n",
              "    }\n",
              "\n",
              "    .colab-df-convert {\n",
              "      background-color: #E8F0FE;\n",
              "      border: none;\n",
              "      border-radius: 50%;\n",
              "      cursor: pointer;\n",
              "      display: none;\n",
              "      fill: #1967D2;\n",
              "      height: 32px;\n",
              "      padding: 0 0 0 0;\n",
              "      width: 32px;\n",
              "    }\n",
              "\n",
              "    .colab-df-convert:hover {\n",
              "      background-color: #E2EBFA;\n",
              "      box-shadow: 0px 1px 2px rgba(60, 64, 67, 0.3), 0px 1px 3px 1px rgba(60, 64, 67, 0.15);\n",
              "      fill: #174EA6;\n",
              "    }\n",
              "\n",
              "    [theme=dark] .colab-df-convert {\n",
              "      background-color: #3B4455;\n",
              "      fill: #D2E3FC;\n",
              "    }\n",
              "\n",
              "    [theme=dark] .colab-df-convert:hover {\n",
              "      background-color: #434B5C;\n",
              "      box-shadow: 0px 1px 3px 1px rgba(0, 0, 0, 0.15);\n",
              "      filter: drop-shadow(0px 1px 2px rgba(0, 0, 0, 0.3));\n",
              "      fill: #FFFFFF;\n",
              "    }\n",
              "  </style>\n",
              "\n",
              "      <script>\n",
              "        const buttonEl =\n",
              "          document.querySelector('#df-904b4dc6-3b0c-4ada-baf1-ccea506491f2 button.colab-df-convert');\n",
              "        buttonEl.style.display =\n",
              "          google.colab.kernel.accessAllowed ? 'block' : 'none';\n",
              "\n",
              "        async function convertToInteractive(key) {\n",
              "          const element = document.querySelector('#df-904b4dc6-3b0c-4ada-baf1-ccea506491f2');\n",
              "          const dataTable =\n",
              "            await google.colab.kernel.invokeFunction('convertToInteractive',\n",
              "                                                     [key], {});\n",
              "          if (!dataTable) return;\n",
              "\n",
              "          const docLinkHtml = 'Like what you see? Visit the ' +\n",
              "            '<a target=\"_blank\" href=https://colab.research.google.com/notebooks/data_table.ipynb>data table notebook</a>'\n",
              "            + ' to learn more about interactive tables.';\n",
              "          element.innerHTML = '';\n",
              "          dataTable['output_type'] = 'display_data';\n",
              "          await google.colab.output.renderOutput(dataTable, element);\n",
              "          const docLink = document.createElement('div');\n",
              "          docLink.innerHTML = docLinkHtml;\n",
              "          element.appendChild(docLink);\n",
              "        }\n",
              "      </script>\n",
              "    </div>\n",
              "  </div>\n",
              "  "
            ]
          },
          "metadata": {},
          "execution_count": 10
        }
      ],
      "source": [
        "data.describe()"
      ]
    },
    {
      "cell_type": "code",
      "execution_count": null,
      "metadata": {
        "id": "rzKA5HjF-7o4"
      },
      "outputs": [],
      "source": [
        "data['Date'] = pd.to_datetime(data['Date'],format='%Y-%m-%d')\n",
        "data.set_index('Date',inplace=True)\n",
        "data['Date'] = data.index"
      ]
    },
    {
      "cell_type": "code",
      "execution_count": null,
      "metadata": {
        "id": "wvLXfbRL-_0Z"
      },
      "outputs": [],
      "source": [
        "data_feature_selected = data.drop(axis=1,labels=['Open','High','Low','Close','Volume'])"
      ]
    },
    {
      "cell_type": "code",
      "execution_count": null,
      "metadata": {
        "colab": {
          "base_uri": "https://localhost:8080/",
          "height": 455
        },
        "id": "htRMEOhR_MKp",
        "outputId": "b0b9dfc7-d516-42ee-a949-1296dc3bad62"
      },
      "outputs": [
        {
          "output_type": "execute_result",
          "data": {
            "text/plain": [
              "                 Date    Adj Close\n",
              "Date                              \n",
              "2015-01-02 2015-01-02  2430.013184\n",
              "2015-01-05 2015-01-05  2408.771973\n",
              "2015-01-06 2015-01-06  2391.778809\n",
              "2015-01-07 2015-01-07  2387.530518\n",
              "2015-01-08 2015-01-08  2408.771973\n",
              "...               ...          ...\n",
              "2018-01-24 2018-01-24  3525.019775\n",
              "2018-01-25 2018-01-25  3516.162842\n",
              "2018-01-26 2018-01-26  3675.585693\n",
              "2018-01-29 2018-01-29  3604.731445\n",
              "2018-01-30 2018-01-30  3516.162842\n",
              "\n",
              "[767 rows x 2 columns]"
            ],
            "text/html": [
              "\n",
              "  <div id=\"df-46f3399d-cf41-41da-bdb1-f266c3b53c6b\">\n",
              "    <div class=\"colab-df-container\">\n",
              "      <div>\n",
              "<style scoped>\n",
              "    .dataframe tbody tr th:only-of-type {\n",
              "        vertical-align: middle;\n",
              "    }\n",
              "\n",
              "    .dataframe tbody tr th {\n",
              "        vertical-align: top;\n",
              "    }\n",
              "\n",
              "    .dataframe thead th {\n",
              "        text-align: right;\n",
              "    }\n",
              "</style>\n",
              "<table border=\"1\" class=\"dataframe\">\n",
              "  <thead>\n",
              "    <tr style=\"text-align: right;\">\n",
              "      <th></th>\n",
              "      <th>Date</th>\n",
              "      <th>Adj Close</th>\n",
              "    </tr>\n",
              "    <tr>\n",
              "      <th>Date</th>\n",
              "      <th></th>\n",
              "      <th></th>\n",
              "    </tr>\n",
              "  </thead>\n",
              "  <tbody>\n",
              "    <tr>\n",
              "      <th>2015-01-02</th>\n",
              "      <td>2015-01-02</td>\n",
              "      <td>2430.013184</td>\n",
              "    </tr>\n",
              "    <tr>\n",
              "      <th>2015-01-05</th>\n",
              "      <td>2015-01-05</td>\n",
              "      <td>2408.771973</td>\n",
              "    </tr>\n",
              "    <tr>\n",
              "      <th>2015-01-06</th>\n",
              "      <td>2015-01-06</td>\n",
              "      <td>2391.778809</td>\n",
              "    </tr>\n",
              "    <tr>\n",
              "      <th>2015-01-07</th>\n",
              "      <td>2015-01-07</td>\n",
              "      <td>2387.530518</td>\n",
              "    </tr>\n",
              "    <tr>\n",
              "      <th>2015-01-08</th>\n",
              "      <td>2015-01-08</td>\n",
              "      <td>2408.771973</td>\n",
              "    </tr>\n",
              "    <tr>\n",
              "      <th>...</th>\n",
              "      <td>...</td>\n",
              "      <td>...</td>\n",
              "    </tr>\n",
              "    <tr>\n",
              "      <th>2018-01-24</th>\n",
              "      <td>2018-01-24</td>\n",
              "      <td>3525.019775</td>\n",
              "    </tr>\n",
              "    <tr>\n",
              "      <th>2018-01-25</th>\n",
              "      <td>2018-01-25</td>\n",
              "      <td>3516.162842</td>\n",
              "    </tr>\n",
              "    <tr>\n",
              "      <th>2018-01-26</th>\n",
              "      <td>2018-01-26</td>\n",
              "      <td>3675.585693</td>\n",
              "    </tr>\n",
              "    <tr>\n",
              "      <th>2018-01-29</th>\n",
              "      <td>2018-01-29</td>\n",
              "      <td>3604.731445</td>\n",
              "    </tr>\n",
              "    <tr>\n",
              "      <th>2018-01-30</th>\n",
              "      <td>2018-01-30</td>\n",
              "      <td>3516.162842</td>\n",
              "    </tr>\n",
              "  </tbody>\n",
              "</table>\n",
              "<p>767 rows × 2 columns</p>\n",
              "</div>\n",
              "      <button class=\"colab-df-convert\" onclick=\"convertToInteractive('df-46f3399d-cf41-41da-bdb1-f266c3b53c6b')\"\n",
              "              title=\"Convert this dataframe to an interactive table.\"\n",
              "              style=\"display:none;\">\n",
              "        \n",
              "  <svg xmlns=\"http://www.w3.org/2000/svg\" height=\"24px\"viewBox=\"0 0 24 24\"\n",
              "       width=\"24px\">\n",
              "    <path d=\"M0 0h24v24H0V0z\" fill=\"none\"/>\n",
              "    <path d=\"M18.56 5.44l.94 2.06.94-2.06 2.06-.94-2.06-.94-.94-2.06-.94 2.06-2.06.94zm-11 1L8.5 8.5l.94-2.06 2.06-.94-2.06-.94L8.5 2.5l-.94 2.06-2.06.94zm10 10l.94 2.06.94-2.06 2.06-.94-2.06-.94-.94-2.06-.94 2.06-2.06.94z\"/><path d=\"M17.41 7.96l-1.37-1.37c-.4-.4-.92-.59-1.43-.59-.52 0-1.04.2-1.43.59L10.3 9.45l-7.72 7.72c-.78.78-.78 2.05 0 2.83L4 21.41c.39.39.9.59 1.41.59.51 0 1.02-.2 1.41-.59l7.78-7.78 2.81-2.81c.8-.78.8-2.07 0-2.86zM5.41 20L4 18.59l7.72-7.72 1.47 1.35L5.41 20z\"/>\n",
              "  </svg>\n",
              "      </button>\n",
              "      \n",
              "  <style>\n",
              "    .colab-df-container {\n",
              "      display:flex;\n",
              "      flex-wrap:wrap;\n",
              "      gap: 12px;\n",
              "    }\n",
              "\n",
              "    .colab-df-convert {\n",
              "      background-color: #E8F0FE;\n",
              "      border: none;\n",
              "      border-radius: 50%;\n",
              "      cursor: pointer;\n",
              "      display: none;\n",
              "      fill: #1967D2;\n",
              "      height: 32px;\n",
              "      padding: 0 0 0 0;\n",
              "      width: 32px;\n",
              "    }\n",
              "\n",
              "    .colab-df-convert:hover {\n",
              "      background-color: #E2EBFA;\n",
              "      box-shadow: 0px 1px 2px rgba(60, 64, 67, 0.3), 0px 1px 3px 1px rgba(60, 64, 67, 0.15);\n",
              "      fill: #174EA6;\n",
              "    }\n",
              "\n",
              "    [theme=dark] .colab-df-convert {\n",
              "      background-color: #3B4455;\n",
              "      fill: #D2E3FC;\n",
              "    }\n",
              "\n",
              "    [theme=dark] .colab-df-convert:hover {\n",
              "      background-color: #434B5C;\n",
              "      box-shadow: 0px 1px 3px 1px rgba(0, 0, 0, 0.15);\n",
              "      filter: drop-shadow(0px 1px 2px rgba(0, 0, 0, 0.3));\n",
              "      fill: #FFFFFF;\n",
              "    }\n",
              "  </style>\n",
              "\n",
              "      <script>\n",
              "        const buttonEl =\n",
              "          document.querySelector('#df-46f3399d-cf41-41da-bdb1-f266c3b53c6b button.colab-df-convert');\n",
              "        buttonEl.style.display =\n",
              "          google.colab.kernel.accessAllowed ? 'block' : 'none';\n",
              "\n",
              "        async function convertToInteractive(key) {\n",
              "          const element = document.querySelector('#df-46f3399d-cf41-41da-bdb1-f266c3b53c6b');\n",
              "          const dataTable =\n",
              "            await google.colab.kernel.invokeFunction('convertToInteractive',\n",
              "                                                     [key], {});\n",
              "          if (!dataTable) return;\n",
              "\n",
              "          const docLinkHtml = 'Like what you see? Visit the ' +\n",
              "            '<a target=\"_blank\" href=https://colab.research.google.com/notebooks/data_table.ipynb>data table notebook</a>'\n",
              "            + ' to learn more about interactive tables.';\n",
              "          element.innerHTML = '';\n",
              "          dataTable['output_type'] = 'display_data';\n",
              "          await google.colab.output.renderOutput(dataTable, element);\n",
              "          const docLink = document.createElement('div');\n",
              "          docLink.innerHTML = docLinkHtml;\n",
              "          element.appendChild(docLink);\n",
              "        }\n",
              "      </script>\n",
              "    </div>\n",
              "  </div>\n",
              "  "
            ]
          },
          "metadata": {},
          "execution_count": 13
        }
      ],
      "source": [
        "col_order = ['Date','Adj Close']\n",
        "data_feature_selected = data_feature_selected.reindex(columns=col_order)\n",
        "data_feature_selected "
      ]
    },
    {
      "cell_type": "code",
      "execution_count": null,
      "metadata": {
        "colab": {
          "base_uri": "https://localhost:8080/",
          "height": 455
        },
        "id": "23OhLAFnPTbW",
        "outputId": "0561a5e4-768c-4b9d-ad4f-ebc3aa308e00"
      },
      "outputs": [
        {
          "output_type": "execute_result",
          "data": {
            "text/plain": [
              "                   ds            y\n",
              "Date                              \n",
              "2015-01-02 2015-01-02  2430.013184\n",
              "2015-01-05 2015-01-05  2408.771973\n",
              "2015-01-06 2015-01-06  2391.778809\n",
              "2015-01-07 2015-01-07  2387.530518\n",
              "2015-01-08 2015-01-08  2408.771973\n",
              "...               ...          ...\n",
              "2018-01-24 2018-01-24  3525.019775\n",
              "2018-01-25 2018-01-25  3516.162842\n",
              "2018-01-26 2018-01-26  3675.585693\n",
              "2018-01-29 2018-01-29  3604.731445\n",
              "2018-01-30 2018-01-30  3516.162842\n",
              "\n",
              "[767 rows x 2 columns]"
            ],
            "text/html": [
              "\n",
              "  <div id=\"df-0f140518-52dc-49f8-a975-5fa8f52b7463\">\n",
              "    <div class=\"colab-df-container\">\n",
              "      <div>\n",
              "<style scoped>\n",
              "    .dataframe tbody tr th:only-of-type {\n",
              "        vertical-align: middle;\n",
              "    }\n",
              "\n",
              "    .dataframe tbody tr th {\n",
              "        vertical-align: top;\n",
              "    }\n",
              "\n",
              "    .dataframe thead th {\n",
              "        text-align: right;\n",
              "    }\n",
              "</style>\n",
              "<table border=\"1\" class=\"dataframe\">\n",
              "  <thead>\n",
              "    <tr style=\"text-align: right;\">\n",
              "      <th></th>\n",
              "      <th>ds</th>\n",
              "      <th>y</th>\n",
              "    </tr>\n",
              "    <tr>\n",
              "      <th>Date</th>\n",
              "      <th></th>\n",
              "      <th></th>\n",
              "    </tr>\n",
              "  </thead>\n",
              "  <tbody>\n",
              "    <tr>\n",
              "      <th>2015-01-02</th>\n",
              "      <td>2015-01-02</td>\n",
              "      <td>2430.013184</td>\n",
              "    </tr>\n",
              "    <tr>\n",
              "      <th>2015-01-05</th>\n",
              "      <td>2015-01-05</td>\n",
              "      <td>2408.771973</td>\n",
              "    </tr>\n",
              "    <tr>\n",
              "      <th>2015-01-06</th>\n",
              "      <td>2015-01-06</td>\n",
              "      <td>2391.778809</td>\n",
              "    </tr>\n",
              "    <tr>\n",
              "      <th>2015-01-07</th>\n",
              "      <td>2015-01-07</td>\n",
              "      <td>2387.530518</td>\n",
              "    </tr>\n",
              "    <tr>\n",
              "      <th>2015-01-08</th>\n",
              "      <td>2015-01-08</td>\n",
              "      <td>2408.771973</td>\n",
              "    </tr>\n",
              "    <tr>\n",
              "      <th>...</th>\n",
              "      <td>...</td>\n",
              "      <td>...</td>\n",
              "    </tr>\n",
              "    <tr>\n",
              "      <th>2018-01-24</th>\n",
              "      <td>2018-01-24</td>\n",
              "      <td>3525.019775</td>\n",
              "    </tr>\n",
              "    <tr>\n",
              "      <th>2018-01-25</th>\n",
              "      <td>2018-01-25</td>\n",
              "      <td>3516.162842</td>\n",
              "    </tr>\n",
              "    <tr>\n",
              "      <th>2018-01-26</th>\n",
              "      <td>2018-01-26</td>\n",
              "      <td>3675.585693</td>\n",
              "    </tr>\n",
              "    <tr>\n",
              "      <th>2018-01-29</th>\n",
              "      <td>2018-01-29</td>\n",
              "      <td>3604.731445</td>\n",
              "    </tr>\n",
              "    <tr>\n",
              "      <th>2018-01-30</th>\n",
              "      <td>2018-01-30</td>\n",
              "      <td>3516.162842</td>\n",
              "    </tr>\n",
              "  </tbody>\n",
              "</table>\n",
              "<p>767 rows × 2 columns</p>\n",
              "</div>\n",
              "      <button class=\"colab-df-convert\" onclick=\"convertToInteractive('df-0f140518-52dc-49f8-a975-5fa8f52b7463')\"\n",
              "              title=\"Convert this dataframe to an interactive table.\"\n",
              "              style=\"display:none;\">\n",
              "        \n",
              "  <svg xmlns=\"http://www.w3.org/2000/svg\" height=\"24px\"viewBox=\"0 0 24 24\"\n",
              "       width=\"24px\">\n",
              "    <path d=\"M0 0h24v24H0V0z\" fill=\"none\"/>\n",
              "    <path d=\"M18.56 5.44l.94 2.06.94-2.06 2.06-.94-2.06-.94-.94-2.06-.94 2.06-2.06.94zm-11 1L8.5 8.5l.94-2.06 2.06-.94-2.06-.94L8.5 2.5l-.94 2.06-2.06.94zm10 10l.94 2.06.94-2.06 2.06-.94-2.06-.94-.94-2.06-.94 2.06-2.06.94z\"/><path d=\"M17.41 7.96l-1.37-1.37c-.4-.4-.92-.59-1.43-.59-.52 0-1.04.2-1.43.59L10.3 9.45l-7.72 7.72c-.78.78-.78 2.05 0 2.83L4 21.41c.39.39.9.59 1.41.59.51 0 1.02-.2 1.41-.59l7.78-7.78 2.81-2.81c.8-.78.8-2.07 0-2.86zM5.41 20L4 18.59l7.72-7.72 1.47 1.35L5.41 20z\"/>\n",
              "  </svg>\n",
              "      </button>\n",
              "      \n",
              "  <style>\n",
              "    .colab-df-container {\n",
              "      display:flex;\n",
              "      flex-wrap:wrap;\n",
              "      gap: 12px;\n",
              "    }\n",
              "\n",
              "    .colab-df-convert {\n",
              "      background-color: #E8F0FE;\n",
              "      border: none;\n",
              "      border-radius: 50%;\n",
              "      cursor: pointer;\n",
              "      display: none;\n",
              "      fill: #1967D2;\n",
              "      height: 32px;\n",
              "      padding: 0 0 0 0;\n",
              "      width: 32px;\n",
              "    }\n",
              "\n",
              "    .colab-df-convert:hover {\n",
              "      background-color: #E2EBFA;\n",
              "      box-shadow: 0px 1px 2px rgba(60, 64, 67, 0.3), 0px 1px 3px 1px rgba(60, 64, 67, 0.15);\n",
              "      fill: #174EA6;\n",
              "    }\n",
              "\n",
              "    [theme=dark] .colab-df-convert {\n",
              "      background-color: #3B4455;\n",
              "      fill: #D2E3FC;\n",
              "    }\n",
              "\n",
              "    [theme=dark] .colab-df-convert:hover {\n",
              "      background-color: #434B5C;\n",
              "      box-shadow: 0px 1px 3px 1px rgba(0, 0, 0, 0.15);\n",
              "      filter: drop-shadow(0px 1px 2px rgba(0, 0, 0, 0.3));\n",
              "      fill: #FFFFFF;\n",
              "    }\n",
              "  </style>\n",
              "\n",
              "      <script>\n",
              "        const buttonEl =\n",
              "          document.querySelector('#df-0f140518-52dc-49f8-a975-5fa8f52b7463 button.colab-df-convert');\n",
              "        buttonEl.style.display =\n",
              "          google.colab.kernel.accessAllowed ? 'block' : 'none';\n",
              "\n",
              "        async function convertToInteractive(key) {\n",
              "          const element = document.querySelector('#df-0f140518-52dc-49f8-a975-5fa8f52b7463');\n",
              "          const dataTable =\n",
              "            await google.colab.kernel.invokeFunction('convertToInteractive',\n",
              "                                                     [key], {});\n",
              "          if (!dataTable) return;\n",
              "\n",
              "          const docLinkHtml = 'Like what you see? Visit the ' +\n",
              "            '<a target=\"_blank\" href=https://colab.research.google.com/notebooks/data_table.ipynb>data table notebook</a>'\n",
              "            + ' to learn more about interactive tables.';\n",
              "          element.innerHTML = '';\n",
              "          dataTable['output_type'] = 'display_data';\n",
              "          await google.colab.output.renderOutput(dataTable, element);\n",
              "          const docLink = document.createElement('div');\n",
              "          docLink.innerHTML = docLinkHtml;\n",
              "          element.appendChild(docLink);\n",
              "        }\n",
              "      </script>\n",
              "    </div>\n",
              "  </div>\n",
              "  "
            ]
          },
          "metadata": {},
          "execution_count": 14
        }
      ],
      "source": [
        "data_feature_selected = data_feature_selected.rename(columns = {\"Date\":\"ds\", \"Adj Close\":\"y\"})\n",
        "data_feature_selected"
      ]
    },
    {
      "cell_type": "code",
      "execution_count": null,
      "metadata": {
        "colab": {
          "base_uri": "https://localhost:8080/",
          "height": 488
        },
        "id": "9COy8Kqw_TJr",
        "outputId": "a220f6ba-d09e-40f3-c19f-0036b66ac43c"
      },
      "outputs": [
        {
          "output_type": "display_data",
          "data": {
            "text/plain": [
              "<Figure size 1296x576 with 1 Axes>"
            ],
            "image/png": "[encoded data removed]"
          },
          "metadata": {
            "needs_background": "light"
          }
        }
      ],
      "source": [
        "fig = plt.figure(figsize=(18,8))\n",
        "plt.plot(data_feature_selected ['y'],label='TLKM Stock')\n",
        "plt.xticks(fontsize=16)\n",
        "plt.yticks(fontsize=16)\n",
        "plt.style.use('fivethirtyeight')\n",
        "plt.legend(prop={'size': 12})\n",
        "plt.show()"
      ]
    },
    {
      "cell_type": "code",
      "execution_count": null,
      "metadata": {
        "colab": {
          "base_uri": "https://localhost:8080/"
        },
        "id": "XFVdoItc_riB",
        "outputId": "45303a83-3c8c-44cf-fd02-f085e6ed89d7"
      },
      "outputs": [
        {
          "output_type": "execute_result",
          "data": {
            "text/plain": [
              "DatetimeIndex(['2015-01-02', '2015-01-05', '2015-01-06', '2015-01-07',\n",
              "               '2015-01-08', '2015-01-09', '2015-01-12', '2015-01-13',\n",
              "               '2015-01-14', '2015-01-15',\n",
              "               ...\n",
              "               '2018-01-17', '2018-01-18', '2018-01-19', '2018-01-22',\n",
              "               '2018-01-23', '2018-01-24', '2018-01-25', '2018-01-26',\n",
              "               '2018-01-29', '2018-01-30'],\n",
              "              dtype='datetime64[ns]', name='Date', length=767, freq=None)"
            ]
          },
          "metadata": {},
          "execution_count": 16
        }
      ],
      "source": [
        "data_feature_selected\n",
        "data_feature_selected.index\n"
      ]
    },
    {
      "cell_type": "code",
      "execution_count": null,
      "metadata": {
        "colab": {
          "base_uri": "https://localhost:8080/",
          "height": 455
        },
        "id": "Dr__xJooAlid",
        "outputId": "db2c01cc-1fe0-46c4-b17e-a725fe25d3c6"
      },
      "outputs": [
        {
          "output_type": "execute_result",
          "data": {
            "text/plain": [
              "                   ds            y\n",
              "Date                              \n",
              "2015-01-02 2015-01-02  2430.013184\n",
              "2015-01-05 2015-01-05  2408.771973\n",
              "2015-01-06 2015-01-06  2391.778809\n",
              "2015-01-07 2015-01-07  2387.530518\n",
              "2015-01-08 2015-01-08  2408.771973\n",
              "...               ...          ...\n",
              "2018-01-24 2018-01-24  3525.019775\n",
              "2018-01-25 2018-01-25  3516.162842\n",
              "2018-01-26 2018-01-26  3675.585693\n",
              "2018-01-29 2018-01-29  3604.731445\n",
              "2018-01-30 2018-01-30  3516.162842\n",
              "\n",
              "[767 rows x 2 columns]"
            ],
            "text/html": [
              "\n",
              "  <div id=\"df-5135bb83-f98d-41e0-b243-05a75b6a455c\">\n",
              "    <div class=\"colab-df-container\">\n",
              "      <div>\n",
              "<style scoped>\n",
              "    .dataframe tbody tr th:only-of-type {\n",
              "        vertical-align: middle;\n",
              "    }\n",
              "\n",
              "    .dataframe tbody tr th {\n",
              "        vertical-align: top;\n",
              "    }\n",
              "\n",
              "    .dataframe thead th {\n",
              "        text-align: right;\n",
              "    }\n",
              "</style>\n",
              "<table border=\"1\" class=\"dataframe\">\n",
              "  <thead>\n",
              "    <tr style=\"text-align: right;\">\n",
              "      <th></th>\n",
              "      <th>ds</th>\n",
              "      <th>y</th>\n",
              "    </tr>\n",
              "    <tr>\n",
              "      <th>Date</th>\n",
              "      <th></th>\n",
              "      <th></th>\n",
              "    </tr>\n",
              "  </thead>\n",
              "  <tbody>\n",
              "    <tr>\n",
              "      <th>2015-01-02</th>\n",
              "      <td>2015-01-02</td>\n",
              "      <td>2430.013184</td>\n",
              "    </tr>\n",
              "    <tr>\n",
              "      <th>2015-01-05</th>\n",
              "      <td>2015-01-05</td>\n",
              "      <td>2408.771973</td>\n",
              "    </tr>\n",
              "    <tr>\n",
              "      <th>2015-01-06</th>\n",
              "      <td>2015-01-06</td>\n",
              "      <td>2391.778809</td>\n",
              "    </tr>\n",
              "    <tr>\n",
              "      <th>2015-01-07</th>\n",
              "      <td>2015-01-07</td>\n",
              "      <td>2387.530518</td>\n",
              "    </tr>\n",
              "    <tr>\n",
              "      <th>2015-01-08</th>\n",
              "      <td>2015-01-08</td>\n",
              "      <td>2408.771973</td>\n",
              "    </tr>\n",
              "    <tr>\n",
              "      <th>...</th>\n",
              "      <td>...</td>\n",
              "      <td>...</td>\n",
              "    </tr>\n",
              "    <tr>\n",
              "      <th>2018-01-24</th>\n",
              "      <td>2018-01-24</td>\n",
              "      <td>3525.019775</td>\n",
              "    </tr>\n",
              "    <tr>\n",
              "      <th>2018-01-25</th>\n",
              "      <td>2018-01-25</td>\n",
              "      <td>3516.162842</td>\n",
              "    </tr>\n",
              "    <tr>\n",
              "      <th>2018-01-26</th>\n",
              "      <td>2018-01-26</td>\n",
              "      <td>3675.585693</td>\n",
              "    </tr>\n",
              "    <tr>\n",
              "      <th>2018-01-29</th>\n",
              "      <td>2018-01-29</td>\n",
              "      <td>3604.731445</td>\n",
              "    </tr>\n",
              "    <tr>\n",
              "      <th>2018-01-30</th>\n",
              "      <td>2018-01-30</td>\n",
              "      <td>3516.162842</td>\n",
              "    </tr>\n",
              "  </tbody>\n",
              "</table>\n",
              "<p>767 rows × 2 columns</p>\n",
              "</div>\n",
              "      <button class=\"colab-df-convert\" onclick=\"convertToInteractive('df-5135bb83-f98d-41e0-b243-05a75b6a455c')\"\n",
              "              title=\"Convert this dataframe to an interactive table.\"\n",
              "              style=\"display:none;\">\n",
              "        \n",
              "  <svg xmlns=\"http://www.w3.org/2000/svg\" height=\"24px\"viewBox=\"0 0 24 24\"\n",
              "       width=\"24px\">\n",
              "    <path d=\"M0 0h24v24H0V0z\" fill=\"none\"/>\n",
              "    <path d=\"M18.56 5.44l.94 2.06.94-2.06 2.06-.94-2.06-.94-.94-2.06-.94 2.06-2.06.94zm-11 1L8.5 8.5l.94-2.06 2.06-.94-2.06-.94L8.5 2.5l-.94 2.06-2.06.94zm10 10l.94 2.06.94-2.06 2.06-.94-2.06-.94-.94-2.06-.94 2.06-2.06.94z\"/><path d=\"M17.41 7.96l-1.37-1.37c-.4-.4-.92-.59-1.43-.59-.52 0-1.04.2-1.43.59L10.3 9.45l-7.72 7.72c-.78.78-.78 2.05 0 2.83L4 21.41c.39.39.9.59 1.41.59.51 0 1.02-.2 1.41-.59l7.78-7.78 2.81-2.81c.8-.78.8-2.07 0-2.86zM5.41 20L4 18.59l7.72-7.72 1.47 1.35L5.41 20z\"/>\n",
              "  </svg>\n",
              "      </button>\n",
              "      \n",
              "  <style>\n",
              "    .colab-df-container {\n",
              "      display:flex;\n",
              "      flex-wrap:wrap;\n",
              "      gap: 12px;\n",
              "    }\n",
              "\n",
              "    .colab-df-convert {\n",
              "      background-color: #E8F0FE;\n",
              "      border: none;\n",
              "      border-radius: 50%;\n",
              "      cursor: pointer;\n",
              "      display: none;\n",
              "      fill: #1967D2;\n",
              "      height: 32px;\n",
              "      padding: 0 0 0 0;\n",
              "      width: 32px;\n",
              "    }\n",
              "\n",
              "    .colab-df-convert:hover {\n",
              "      background-color: #E2EBFA;\n",
              "      box-shadow: 0px 1px 2px rgba(60, 64, 67, 0.3), 0px 1px 3px 1px rgba(60, 64, 67, 0.15);\n",
              "      fill: #174EA6;\n",
              "    }\n",
              "\n",
              "    [theme=dark] .colab-df-convert {\n",
              "      background-color: #3B4455;\n",
              "      fill: #D2E3FC;\n",
              "    }\n",
              "\n",
              "    [theme=dark] .colab-df-convert:hover {\n",
              "      background-color: #434B5C;\n",
              "      box-shadow: 0px 1px 3px 1px rgba(0, 0, 0, 0.15);\n",
              "      filter: drop-shadow(0px 1px 2px rgba(0, 0, 0, 0.3));\n",
              "      fill: #FFFFFF;\n",
              "    }\n",
              "  </style>\n",
              "\n",
              "      <script>\n",
              "        const buttonEl =\n",
              "          document.querySelector('#df-5135bb83-f98d-41e0-b243-05a75b6a455c button.colab-df-convert');\n",
              "        buttonEl.style.display =\n",
              "          google.colab.kernel.accessAllowed ? 'block' : 'none';\n",
              "\n",
              "        async function convertToInteractive(key) {\n",
              "          const element = document.querySelector('#df-5135bb83-f98d-41e0-b243-05a75b6a455c');\n",
              "          const dataTable =\n",
              "            await google.colab.kernel.invokeFunction('convertToInteractive',\n",
              "                                                     [key], {});\n",
              "          if (!dataTable) return;\n",
              "\n",
              "          const docLinkHtml = 'Like what you see? Visit the ' +\n",
              "            '<a target=\"_blank\" href=https://colab.research.google.com/notebooks/data_table.ipynb>data table notebook</a>'\n",
              "            + ' to learn more about interactive tables.';\n",
              "          element.innerHTML = '';\n",
              "          dataTable['output_type'] = 'display_data';\n",
              "          await google.colab.output.renderOutput(dataTable, element);\n",
              "          const docLink = document.createElement('div');\n",
              "          docLink.innerHTML = docLinkHtml;\n",
              "          element.appendChild(docLink);\n",
              "        }\n",
              "      </script>\n",
              "    </div>\n",
              "  </div>\n",
              "  "
            ]
          },
          "metadata": {},
          "execution_count": 17
        }
      ],
      "source": [
        "data_feature_selected"
      ]
    },
    {
      "cell_type": "code",
      "execution_count": null,
      "metadata": {
        "colab": {
          "base_uri": "https://localhost:8080/",
          "height": 455
        },
        "id": "7oZuqao3AsLp",
        "outputId": "3d9c0b8d-d995-4abd-a077-605a4fa346b9"
      },
      "outputs": [
        {
          "output_type": "execute_result",
          "data": {
            "text/plain": [
              "                   ds            y\n",
              "Date                              \n",
              "2015-01-02 2015-01-02  2430.013184\n",
              "2015-01-05 2015-01-05  2408.771973\n",
              "2015-01-06 2015-01-06  2391.778809\n",
              "2015-01-07 2015-01-07  2387.530518\n",
              "2015-01-08 2015-01-08  2408.771973\n",
              "...               ...          ...\n",
              "2017-12-25 2017-12-25  3808.438232\n",
              "2017-12-26 2017-12-26  3808.438232\n",
              "2017-12-27 2017-12-27  3808.438232\n",
              "2017-12-28 2017-12-28  3888.149902\n",
              "2017-12-29 2017-12-29  3932.434082\n",
              "\n",
              "[745 rows x 2 columns]"
            ],
            "text/html": [
              "\n",
              "  <div id=\"df-93776cc5-19f6-4930-a52e-d457487d7d8a\">\n",
              "    <div class=\"colab-df-container\">\n",
              "      <div>\n",
              "<style scoped>\n",
              "    .dataframe tbody tr th:only-of-type {\n",
              "        vertical-align: middle;\n",
              "    }\n",
              "\n",
              "    .dataframe tbody tr th {\n",
              "        vertical-align: top;\n",
              "    }\n",
              "\n",
              "    .dataframe thead th {\n",
              "        text-align: right;\n",
              "    }\n",
              "</style>\n",
              "<table border=\"1\" class=\"dataframe\">\n",
              "  <thead>\n",
              "    <tr style=\"text-align: right;\">\n",
              "      <th></th>\n",
              "      <th>ds</th>\n",
              "      <th>y</th>\n",
              "    </tr>\n",
              "    <tr>\n",
              "      <th>Date</th>\n",
              "      <th></th>\n",
              "      <th></th>\n",
              "    </tr>\n",
              "  </thead>\n",
              "  <tbody>\n",
              "    <tr>\n",
              "      <th>2015-01-02</th>\n",
              "      <td>2015-01-02</td>\n",
              "      <td>2430.013184</td>\n",
              "    </tr>\n",
              "    <tr>\n",
              "      <th>2015-01-05</th>\n",
              "      <td>2015-01-05</td>\n",
              "      <td>2408.771973</td>\n",
              "    </tr>\n",
              "    <tr>\n",
              "      <th>2015-01-06</th>\n",
              "      <td>2015-01-06</td>\n",
              "      <td>2391.778809</td>\n",
              "    </tr>\n",
              "    <tr>\n",
              "      <th>2015-01-07</th>\n",
              "      <td>2015-01-07</td>\n",
              "      <td>2387.530518</td>\n",
              "    </tr>\n",
              "    <tr>\n",
              "      <th>2015-01-08</th>\n",
              "      <td>2015-01-08</td>\n",
              "      <td>2408.771973</td>\n",
              "    </tr>\n",
              "    <tr>\n",
              "      <th>...</th>\n",
              "      <td>...</td>\n",
              "      <td>...</td>\n",
              "    </tr>\n",
              "    <tr>\n",
              "      <th>2017-12-25</th>\n",
              "      <td>2017-12-25</td>\n",
              "      <td>3808.438232</td>\n",
              "    </tr>\n",
              "    <tr>\n",
              "      <th>2017-12-26</th>\n",
              "      <td>2017-12-26</td>\n",
              "      <td>3808.438232</td>\n",
              "    </tr>\n",
              "    <tr>\n",
              "      <th>2017-12-27</th>\n",
              "      <td>2017-12-27</td>\n",
              "      <td>3808.438232</td>\n",
              "    </tr>\n",
              "    <tr>\n",
              "      <th>2017-12-28</th>\n",
              "      <td>2017-12-28</td>\n",
              "      <td>3888.149902</td>\n",
              "    </tr>\n",
              "    <tr>\n",
              "      <th>2017-12-29</th>\n",
              "      <td>2017-12-29</td>\n",
              "      <td>3932.434082</td>\n",
              "    </tr>\n",
              "  </tbody>\n",
              "</table>\n",
              "<p>745 rows × 2 columns</p>\n",
              "</div>\n",
              "      <button class=\"colab-df-convert\" onclick=\"convertToInteractive('df-93776cc5-19f6-4930-a52e-d457487d7d8a')\"\n",
              "              title=\"Convert this dataframe to an interactive table.\"\n",
              "              style=\"display:none;\">\n",
              "        \n",
              "  <svg xmlns=\"http://www.w3.org/2000/svg\" height=\"24px\"viewBox=\"0 0 24 24\"\n",
              "       width=\"24px\">\n",
              "    <path d=\"M0 0h24v24H0V0z\" fill=\"none\"/>\n",
              "    <path d=\"M18.56 5.44l.94 2.06.94-2.06 2.06-.94-2.06-.94-.94-2.06-.94 2.06-2.06.94zm-11 1L8.5 8.5l.94-2.06 2.06-.94-2.06-.94L8.5 2.5l-.94 2.06-2.06.94zm10 10l.94 2.06.94-2.06 2.06-.94-2.06-.94-.94-2.06-.94 2.06-2.06.94z\"/><path d=\"M17.41 7.96l-1.37-1.37c-.4-.4-.92-.59-1.43-.59-.52 0-1.04.2-1.43.59L10.3 9.45l-7.72 7.72c-.78.78-.78 2.05 0 2.83L4 21.41c.39.39.9.59 1.41.59.51 0 1.02-.2 1.41-.59l7.78-7.78 2.81-2.81c.8-.78.8-2.07 0-2.86zM5.41 20L4 18.59l7.72-7.72 1.47 1.35L5.41 20z\"/>\n",
              "  </svg>\n",
              "      </button>\n",
              "      \n",
              "  <style>\n",
              "    .colab-df-container {\n",
              "      display:flex;\n",
              "      flex-wrap:wrap;\n",
              "      gap: 12px;\n",
              "    }\n",
              "\n",
              "    .colab-df-convert {\n",
              "      background-color: #E8F0FE;\n",
              "      border: none;\n",
              "      border-radius: 50%;\n",
              "      cursor: pointer;\n",
              "      display: none;\n",
              "      fill: #1967D2;\n",
              "      height: 32px;\n",
              "      padding: 0 0 0 0;\n",
              "      width: 32px;\n",
              "    }\n",
              "\n",
              "    .colab-df-convert:hover {\n",
              "      background-color: #E2EBFA;\n",
              "      box-shadow: 0px 1px 2px rgba(60, 64, 67, 0.3), 0px 1px 3px 1px rgba(60, 64, 67, 0.15);\n",
              "      fill: #174EA6;\n",
              "    }\n",
              "\n",
              "    [theme=dark] .colab-df-convert {\n",
              "      background-color: #3B4455;\n",
              "      fill: #D2E3FC;\n",
              "    }\n",
              "\n",
              "    [theme=dark] .colab-df-convert:hover {\n",
              "      background-color: #434B5C;\n",
              "      box-shadow: 0px 1px 3px 1px rgba(0, 0, 0, 0.15);\n",
              "      filter: drop-shadow(0px 1px 2px rgba(0, 0, 0, 0.3));\n",
              "      fill: #FFFFFF;\n",
              "    }\n",
              "  </style>\n",
              "\n",
              "      <script>\n",
              "        const buttonEl =\n",
              "          document.querySelector('#df-93776cc5-19f6-4930-a52e-d457487d7d8a button.colab-df-convert');\n",
              "        buttonEl.style.display =\n",
              "          google.colab.kernel.accessAllowed ? 'block' : 'none';\n",
              "\n",
              "        async function convertToInteractive(key) {\n",
              "          const element = document.querySelector('#df-93776cc5-19f6-4930-a52e-d457487d7d8a');\n",
              "          const dataTable =\n",
              "            await google.colab.kernel.invokeFunction('convertToInteractive',\n",
              "                                                     [key], {});\n",
              "          if (!dataTable) return;\n",
              "\n",
              "          const docLinkHtml = 'Like what you see? Visit the ' +\n",
              "            '<a target=\"_blank\" href=https://colab.research.google.com/notebooks/data_table.ipynb>data table notebook</a>'\n",
              "            + ' to learn more about interactive tables.';\n",
              "          element.innerHTML = '';\n",
              "          dataTable['output_type'] = 'display_data';\n",
              "          await google.colab.output.renderOutput(dataTable, element);\n",
              "          const docLink = document.createElement('div');\n",
              "          docLink.innerHTML = docLinkHtml;\n",
              "          element.appendChild(docLink);\n",
              "        }\n",
              "      </script>\n",
              "    </div>\n",
              "  </div>\n",
              "  "
            ]
          },
          "metadata": {},
          "execution_count": 18
        }
      ],
      "source": [
        "data_feature_selected[0:745]"
      ]
    },
    {
      "cell_type": "code",
      "execution_count": null,
      "metadata": {
        "id": "Umd_wRt_BgZp"
      },
      "outputs": [],
      "source": [
        "def ad_fuller_func(X):\n",
        "  result_ad_fuller = adfuller(X)\n",
        "  print('ADF Statistic: %f' % result_ad_fuller[0])\n",
        "  print('p-value: %f' %result_ad_fuller[1])\n",
        "  print('Critical Values:')\n",
        "  for key, value in result_ad_fuller[4].items():\n",
        "\t  print('\\t%s: %.3f' % (key, value))\n",
        " \n",
        "  if result_ad_fuller[0] < result_ad_fuller[4]['5%']:\n",
        "    print('Reject Null Hypothesis(Ho)-Time Series is Stationary')\n",
        "  else:\n",
        "    print('Failed to Reject Ho-Time Series is Non-Stationary')"
      ]
    },
    {
      "cell_type": "code",
      "execution_count": null,
      "metadata": {
        "colab": {
          "base_uri": "https://localhost:8080/"
        },
        "id": "w7CiIEooBmNS",
        "outputId": "01cdaf2a-e471-4b0e-c662-408be441acde"
      },
      "outputs": [
        {
          "output_type": "stream",
          "name": "stdout",
          "text": [
            "ADF Statistic: -1.173159\n",
            "p-value: 0.685034\n",
            "Critical Values:\n",
            "\t1%: -3.439\n",
            "\t5%: -2.865\n",
            "\t10%: -2.569\n",
            "Failed to Reject Ho-Time Series is Non-Stationary\n"
          ]
        }
      ],
      "source": [
        "ad_fuller_func(data_feature_selected['y'])"
      ]
    },
    {
      "cell_type": "code",
      "execution_count": null,
      "metadata": {
        "id": "wRr6mzOlB51n"
      },
      "outputs": [],
      "source": [
        "data_diff = data_feature_selected['y'] - data_feature_selected['y'].shift(1)"
      ]
    },
    {
      "cell_type": "code",
      "execution_count": null,
      "metadata": {
        "colab": {
          "base_uri": "https://localhost:8080/"
        },
        "id": "j6NR6TRxCE4R",
        "outputId": "56b38c66-0ae6-4b48-e6cc-52ca061f20df"
      },
      "outputs": [
        {
          "output_type": "execute_result",
          "data": {
            "text/plain": [
              "Date\n",
              "2015-01-02           NaN\n",
              "2015-01-05    -21.241211\n",
              "2015-01-06    -16.993164\n",
              "2015-01-07     -4.248291\n",
              "2015-01-08     21.241455\n",
              "                 ...    \n",
              "2018-01-24    -97.425293\n",
              "2018-01-25     -8.856933\n",
              "2018-01-26    159.422851\n",
              "2018-01-29    -70.854248\n",
              "2018-01-30    -88.568603\n",
              "Name: y, Length: 767, dtype: float64"
            ]
          },
          "metadata": {},
          "execution_count": 22
        }
      ],
      "source": [
        "data_diff"
      ]
    },
    {
      "cell_type": "code",
      "execution_count": null,
      "metadata": {
        "colab": {
          "base_uri": "https://localhost:8080/"
        },
        "id": "2F9w2ZD_B_FU",
        "outputId": "74d9b95a-1718-4637-ab6f-7217a950dfed"
      },
      "outputs": [
        {
          "output_type": "stream",
          "name": "stdout",
          "text": [
            "ADF Statistic: -16.860516\n",
            "p-value: 0.000000\n",
            "Critical Values:\n",
            "\t1%: -3.439\n",
            "\t5%: -2.865\n",
            "\t10%: -2.569\n",
            "Reject Null Hypothesis(Ho)-Time Series is Stationary\n"
          ]
        }
      ],
      "source": [
        "ad_fuller_func(data_diff[1:])"
      ]
    },
    {
      "cell_type": "code",
      "execution_count": null,
      "metadata": {
        "colab": {
          "base_uri": "https://localhost:8080/"
        },
        "id": "UGCeSyhDA5ZL",
        "outputId": "5ecf12fd-146f-436f-fee2-88c05ee31a0e"
      },
      "outputs": [
        {
          "output_type": "execute_result",
          "data": {
            "text/plain": [
              "Date\n",
              "2015-01-05   -21.241211\n",
              "2015-01-06   -16.993164\n",
              "2015-01-07    -4.248291\n",
              "2015-01-08    21.241455\n",
              "2015-01-09    21.241211\n",
              "                ...    \n",
              "2017-12-25     0.000000\n",
              "2017-12-26     0.000000\n",
              "2017-12-27     0.000000\n",
              "2017-12-28    79.711670\n",
              "2017-12-29    44.284180\n",
              "Name: y, Length: 744, dtype: float64"
            ]
          },
          "metadata": {},
          "execution_count": 24
        }
      ],
      "source": [
        "train = data_diff[1:745]\n",
        "train"
      ]
    },
    {
      "cell_type": "code",
      "execution_count": null,
      "metadata": {
        "colab": {
          "base_uri": "https://localhost:8080/"
        },
        "id": "ZsZShCfLBMIe",
        "outputId": "003dc357-0057-4c02-f3fa-9de71bdcaa24"
      },
      "outputs": [
        {
          "output_type": "execute_result",
          "data": {
            "text/plain": [
              "Date\n",
              "2018-01-01      0.000000\n",
              "2018-01-02    -26.571045\n",
              "2018-01-03   -159.422607\n",
              "2018-01-04     -8.856690\n",
              "2018-01-05     53.141114\n",
              "2018-01-08    -17.713868\n",
              "2018-01-09    -53.140381\n",
              "2018-01-10     -8.857666\n",
              "2018-01-11    -17.713378\n",
              "2018-01-12    -35.427247\n",
              "2018-01-15     -8.856933\n",
              "2018-01-16     79.711670\n",
              "2018-01-17     -8.856446\n",
              "2018-01-18    -26.571044\n",
              "2018-01-19     -8.856934\n",
              "2018-01-22    -26.570313\n",
              "2018-01-23    -35.427246\n",
              "2018-01-24    -97.425293\n",
              "2018-01-25     -8.856933\n",
              "2018-01-26    159.422851\n",
              "2018-01-29    -70.854248\n",
              "2018-01-30    -88.568603\n",
              "Name: y, dtype: float64"
            ]
          },
          "metadata": {},
          "execution_count": 25
        }
      ],
      "source": [
        "test = data_diff[745:]\n",
        "test"
      ]
    },
    {
      "cell_type": "code",
      "execution_count": null,
      "metadata": {
        "colab": {
          "base_uri": "https://localhost:8080/",
          "height": 723
        },
        "id": "r2SmRKZtCRGr",
        "outputId": "09e63a1e-5d1f-45f4-e12f-9099dd7d087d"
      },
      "outputs": [
        {
          "output_type": "display_data",
          "data": {
            "text/plain": [
              "<Figure size 720x720 with 2 Axes>"
            ],
            "image/png": "[encoded data removed]"
          },
          "metadata": {}
        }
      ],
      "source": [
        "fig,(ax1,ax2) = plt.subplots(2,figsize=(10,10))\n",
        "acf = plot_acf(train,lags=30,ax=ax1)\n",
        "pacf = plot_pacf(train,lags=30,ax=ax2)\n",
        "ax1.set_title('Autocorrelation For Differenced(1)')\n",
        "ax1.set_ylabel('Correlation')\n",
        "ax1.set_xlabel('Lags')\n",
        "ax2.set_title('Partial Autocorrelation For Differenced(1)')\n",
        "ax2.set_ylabel('Correlation')\n",
        "ax2.set_xlabel('Lags')\n",
        "plt.tight_layout(pad=1)"
      ]
    },
    {
      "cell_type": "code",
      "execution_count": null,
      "metadata": {
        "colab": {
          "base_uri": "https://localhost:8080/"
        },
        "id": "aorBnnXSMoWw",
        "outputId": "dfbc4533-2a89-410f-fbe7-641c3640d3db"
      },
      "outputs": [
        {
          "output_type": "stream",
          "name": "stdout",
          "text": [
            "Examples of grid search Model parameter combinations for Seasonal-ARIMA\n",
            "SARIMAX: (0, 0, 1) x (0, 0, 1, 12)\n"
          ]
        }
      ],
      "source": [
        "p = d = q = range(0, 3)\n",
        "pdq = list(itertools.product(p, d, q))\n",
        "seasonal_pdq = [(x[0], x[1], x[2], 12) for x in list(itertools.product(p, d, q))]\n",
        "\n",
        "print('Examples of grid search Model parameter combinations for Seasonal-ARIMA')\n",
        "print('SARIMAX: {} x {}'.format(pdq[1], seasonal_pdq[1]))"
      ]
    },
    {
      "cell_type": "code",
      "execution_count": null,
      "metadata": {
        "colab": {
          "base_uri": "https://localhost:8080/"
        },
        "id": "z1-CXh9hQT9V",
        "outputId": "d9310e9f-2e80-42f0-e299-4e5890cbac3f"
      },
      "outputs": [
        {
          "output_type": "stream",
          "name": "stdout",
          "text": [
            "ARIMA(0, 0, 0)x(0, 0, 0, 12)12 - AIC:7843.579428014378\n",
            "ARIMA(0, 0, 0)x(0, 0, 1, 12)12 - AIC:7728.591079135382\n",
            "ARIMA(0, 0, 0)x(0, 0, 2, 12)12 - AIC:7611.1869253722325\n",
            "ARIMA(0, 0, 0)x(0, 1, 0, 12)12 - AIC:8207.925584565572\n",
            "ARIMA(0, 0, 0)x(0, 1, 1, 12)12 - AIC:7641.035051623145\n",
            "ARIMA(0, 0, 0)x(0, 1, 2, 12)12 - AIC:7523.768850999131\n",
            "ARIMA(0, 0, 0)x(0, 2, 0, 12)12 - AIC:8873.21540245402\n",
            "ARIMA(0, 0, 0)x(0, 2, 1, 12)12 - AIC:7998.801828910236\n",
            "ARIMA(0, 0, 0)x(0, 2, 2, 12)12 - AIC:7487.8353519528455\n",
            "ARIMA(0, 0, 0)x(1, 0, 0, 12)12 - AIC:7738.204289808351\n",
            "ARIMA(0, 0, 0)x(1, 0, 1, 12)12 - AIC:7730.5347919806445\n",
            "ARIMA(0, 0, 0)x(1, 0, 2, 12)12 - AIC:7612.9417104836875\n",
            "ARIMA(0, 0, 0)x(1, 1, 0, 12)12 - AIC:7880.2728622277555\n",
            "ARIMA(0, 0, 0)x(1, 1, 1, 12)12 - AIC:7642.960048464663\n",
            "ARIMA(0, 0, 0)x(1, 1, 2, 12)12 - AIC:7522.118771807772\n",
            "ARIMA(0, 0, 0)x(1, 2, 0, 12)12 - AIC:8322.8388823689\n",
            "ARIMA(0, 0, 0)x(1, 2, 1, 12)12 - AIC:7800.150881737825\n",
            "ARIMA(0, 0, 0)x(1, 2, 2, 12)12 - AIC:7489.793560037068\n",
            "ARIMA(0, 0, 0)x(2, 0, 0, 12)12 - AIC:7620.667700215759\n",
            "ARIMA(0, 0, 0)x(2, 0, 1, 12)12 - AIC:7622.566611783161\n",
            "ARIMA(0, 0, 0)x(2, 0, 2, 12)12 - AIC:7614.799068661886\n",
            "ARIMA(0, 0, 0)x(2, 1, 0, 12)12 - AIC:7671.056306082959\n",
            "ARIMA(0, 0, 0)x(2, 1, 1, 12)12 - AIC:7535.900494755075\n",
            "ARIMA(0, 0, 0)x(2, 1, 2, 12)12 - AIC:7524.01735531773\n",
            "ARIMA(0, 0, 0)x(2, 2, 0, 12)12 - AIC:7982.84314715829\n",
            "ARIMA(0, 0, 0)x(2, 2, 1, 12)12 - AIC:7602.049130097645\n",
            "ARIMA(0, 0, 0)x(2, 2, 2, 12)12 - AIC:7491.751661296456\n",
            "ARIMA(0, 0, 1)x(0, 0, 0, 12)12 - AIC:7829.4680375735625\n",
            "ARIMA(0, 0, 1)x(0, 0, 1, 12)12 - AIC:7713.840354989366\n",
            "ARIMA(0, 0, 1)x(0, 0, 2, 12)12 - AIC:7596.673480748463\n",
            "ARIMA(0, 0, 1)x(0, 1, 0, 12)12 - AIC:8185.034045061258\n",
            "ARIMA(0, 0, 1)x(0, 1, 1, 12)12 - AIC:7625.892697412796\n",
            "ARIMA(0, 0, 1)x(0, 1, 2, 12)12 - AIC:7509.658458367866\n",
            "ARIMA(0, 0, 1)x(0, 2, 0, 12)12 - AIC:8847.108186860067\n",
            "ARIMA(0, 0, 1)x(0, 2, 1, 12)12 - AIC:7975.734912944779\n",
            "ARIMA(0, 0, 1)x(0, 2, 2, 12)12 - AIC:7471.921598400922\n",
            "ARIMA(0, 0, 1)x(1, 0, 0, 12)12 - AIC:7733.346528124455\n",
            "ARIMA(0, 0, 1)x(1, 0, 1, 12)12 - AIC:7715.805235676582\n",
            "ARIMA(0, 0, 1)x(1, 0, 2, 12)12 - AIC:7598.018986814628\n",
            "ARIMA(0, 0, 1)x(1, 1, 0, 12)12 - AIC:7871.173006271392\n",
            "ARIMA(0, 0, 1)x(1, 1, 1, 12)12 - AIC:7627.728479936179\n",
            "ARIMA(0, 0, 1)x(1, 1, 2, 12)12 - AIC:7507.939830346704\n",
            "ARIMA(0, 0, 1)x(1, 2, 0, 12)12 - AIC:8314.301807465397\n"
          ]
        }
      ],
      "source": [
        "list_param = []\n",
        "list_param_seasonal=[]\n",
        "list_results_aic=[]\n",
        "\n",
        "for param in pdq:\n",
        "    for param_seasonal in seasonal_pdq:\n",
        "        try:\n",
        "            model = sm.tsa.statespace.SARIMAX(train,\n",
        "                                            order=param,\n",
        "                                            seasonal_order=param_seasonal,\n",
        "                                            enforce_stationarity=False,\n",
        "                                            enforce_invertibility=False)\n",
        "\n",
        "            results = model.fit()\n",
        "\n",
        "            print('ARIMA{}x{}12 - AIC:{}'.format(param, param_seasonal, results.aic))\n",
        "            \n",
        "            list_param.append(param)\n",
        "            list_param_seasonal.append(param_seasonal)\n",
        "            list_results_aic.append(results.aic)\n",
        "        except:\n",
        "            continue"
      ]
    },
    {
      "cell_type": "code",
      "execution_count": null,
      "metadata": {
        "id": "v4pqp9m9uim1"
      },
      "outputs": [],
      "source": [
        "#ARIMA(0, 1, 2)x(1, 2, 2, 12)12 - AIC:5917.848270707579"
      ]
    },
    {
      "cell_type": "code",
      "execution_count": null,
      "metadata": {
        "id": "q_MUoICl4Kue",
        "colab": {
          "base_uri": "https://localhost:8080/"
        },
        "outputId": "522c9a15-5250-4bde-e533-74ba4e99889b"
      },
      "outputs": [
        {
          "output_type": "stream",
          "name": "stdout",
          "text": [
            "==============================================================================\n",
            "                 coef    std err          z      P>|z|      [0.025      0.975]\n",
            "------------------------------------------------------------------------------\n",
            "ma.L1         -0.1241      0.026     -4.755      0.000      -0.175      -0.073\n",
            "ma.L2         -0.0933      0.036     -2.587      0.010      -0.164      -0.023\n",
            "ar.S.L12      -0.0093      0.043     -0.217      0.828      -0.093       0.075\n",
            "ma.S.L12      -2.1044      0.043    -48.537      0.000      -2.189      -2.019\n",
            "ma.S.L24       1.1045      0.051     21.722      0.000       1.005       1.204\n",
            "sigma2      1968.3973   5.05e-05   3.89e+07      0.000    1968.397    1968.397\n",
            "==============================================================================\n"
          ]
        }
      ],
      "source": [
        "  model = sm.tsa.statespace.SARIMAX(train,\n",
        "                                            order=(0, 0, 2),\n",
        "                                            seasonal_order=(1, 2, 2, 12),\n",
        "                                            enforce_stationarity=False,\n",
        "                                            enforce_invertibility=False)\n",
        "  model_aic = model.fit()\n",
        "  print(model_aic.summary().tables[1])"
      ]
    },
    {
      "cell_type": "code",
      "execution_count": null,
      "metadata": {
        "id": "JdwWKlWEL1JY",
        "colab": {
          "base_uri": "https://localhost:8080/",
          "height": 1000
        },
        "outputId": "87bf30db-ce53-45c4-c6f5-de3bf18f61bd"
      },
      "outputs": [
        {
          "output_type": "execute_result",
          "data": {
            "text/plain": [
              "<Figure size 1152x576 with 4 Axes>"
            ],
            "image/png": "[encoded data removed]"
          },
          "metadata": {},
          "execution_count": 29
        },
        {
          "output_type": "display_data",
          "data": {
            "text/plain": [
              "<Figure size 1152x576 with 4 Axes>"
            ],
            "image/png": "[encoded data removed]"
          },
          "metadata": {}
        }
      ],
      "source": [
        "model_aic.plot_diagnostics(figsize=(16,8))"
      ]
    },
    {
      "cell_type": "code",
      "execution_count": null,
      "metadata": {
        "id": "8WRXOXvhd5Aw"
      },
      "outputs": [],
      "source": [
        "forecast = model_aic.get_prediction(periods=len(test)-2)\n",
        "predictions = forecast.predicted_mean"
      ]
    },
    {
      "cell_type": "code",
      "source": [
        "predictions"
      ],
      "metadata": {
        "colab": {
          "base_uri": "https://localhost:8080/"
        },
        "id": "TmBo9WK0O-u4",
        "outputId": "0cc6bcfd-5fa7-45eb-d4d3-53a04688aaf2"
      },
      "execution_count": null,
      "outputs": [
        {
          "output_type": "execute_result",
          "data": {
            "text/plain": [
              "Date\n",
              "2015-01-05     0.000000\n",
              "2015-01-06     0.000000\n",
              "2015-01-07     0.001383\n",
              "2015-01-08     0.001353\n",
              "2015-01-09    -0.001307\n",
              "                ...    \n",
              "2017-12-25   -16.113610\n",
              "2017-12-26     7.570851\n",
              "2017-12-27    13.497891\n",
              "2017-12-28    -4.866499\n",
              "2017-12-29    -5.484604\n",
              "Name: predicted_mean, Length: 744, dtype: float64"
            ]
          },
          "metadata": {},
          "execution_count": 31
        }
      ]
    },
    {
      "cell_type": "code",
      "execution_count": null,
      "metadata": {
        "colab": {
          "base_uri": "https://localhost:8080/"
        },
        "id": "vvrtg8le8ec8",
        "outputId": "27a550b3-16e0-4095-ad2d-dac9a3345aae"
      },
      "outputs": [
        {
          "output_type": "execute_result",
          "data": {
            "text/plain": [
              "Date\n",
              "2015-01-05     0.000000\n",
              "2015-01-06     0.000000\n",
              "2015-01-07     0.001383\n",
              "2015-01-08     0.001353\n",
              "2015-01-09    -0.001307\n",
              "                ...    \n",
              "2017-12-25   -16.113610\n",
              "2017-12-26     7.570851\n",
              "2017-12-27    13.497891\n",
              "2017-12-28    -4.866499\n",
              "2017-12-29    -5.484604\n",
              "Name: predicted_mean, Length: 744, dtype: float64"
            ]
          },
          "metadata": {},
          "execution_count": 32
        }
      ],
      "source": [
        "predictions"
      ]
    },
    {
      "cell_type": "code",
      "execution_count": null,
      "metadata": {
        "colab": {
          "base_uri": "https://localhost:8080/"
        },
        "id": "j1V3hANLjSfb",
        "outputId": "34ad1477-e37e-4e86-c4f6-4413c24a9c9f"
      },
      "outputs": [
        {
          "output_type": "execute_result",
          "data": {
            "text/plain": [
              "744   -31.70344\n",
              "dtype: float64"
            ]
          },
          "metadata": {},
          "execution_count": 33
        }
      ],
      "source": [
        "model_aic.forecast()"
      ]
    },
    {
      "cell_type": "code",
      "execution_count": null,
      "metadata": {
        "colab": {
          "base_uri": "https://localhost:8080/"
        },
        "id": "vxi6dL0T8naF",
        "outputId": "82dc4e77-9cb8-40b7-9fe2-2737538cd778"
      },
      "outputs": [
        {
          "output_type": "execute_result",
          "data": {
            "text/plain": [
              "744   -31.703440\n",
              "745   -25.150545\n",
              "746    -2.853247\n",
              "747    11.354419\n",
              "748    -0.944499\n",
              "749     8.148567\n",
              "750     0.033402\n",
              "751    -2.405594\n",
              "752    12.923829\n",
              "753    12.839552\n",
              "754     2.236974\n",
              "755     8.303536\n",
              "756   -19.048373\n",
              "757   -21.455373\n",
              "758    -2.655106\n",
              "759    10.962502\n",
              "760    -1.285753\n",
              "761     8.843787\n",
              "762     0.552030\n",
              "763    -2.432538\n",
              "764    13.196573\n",
              "765    13.128594\n",
              "Name: predicted_mean, dtype: float64"
            ]
          },
          "metadata": {},
          "execution_count": 34
        }
      ],
      "source": [
        "forecast = model_aic.forecast(steps= 22)\n",
        "forecast"
      ]
    },
    {
      "cell_type": "code",
      "source": [
        "temp = data[\"Adj Close\"]\n",
        "temp = temp[744:766]\n",
        "temp"
      ],
      "metadata": {
        "colab": {
          "base_uri": "https://localhost:8080/"
        },
        "outputId": "f62c4a1b-d1e9-4b45-d9fc-641e9138e191",
        "id": "YK03z5EFFdxt"
      },
      "execution_count": null,
      "outputs": [
        {
          "output_type": "execute_result",
          "data": {
            "text/plain": [
              "Date\n",
              "2017-12-29    3932.434082\n",
              "2018-01-01    3932.434082\n",
              "2018-01-02    3905.863037\n",
              "2018-01-03    3746.440430\n",
              "2018-01-04    3737.583740\n",
              "2018-01-05    3790.724854\n",
              "2018-01-08    3773.010986\n",
              "2018-01-09    3719.870605\n",
              "2018-01-10    3711.012939\n",
              "2018-01-11    3693.299561\n",
              "2018-01-12    3657.872314\n",
              "2018-01-15    3649.015381\n",
              "2018-01-16    3728.727051\n",
              "2018-01-17    3719.870605\n",
              "2018-01-18    3693.299561\n",
              "2018-01-19    3684.442627\n",
              "2018-01-22    3657.872314\n",
              "2018-01-23    3622.445068\n",
              "2018-01-24    3525.019775\n",
              "2018-01-25    3516.162842\n",
              "2018-01-26    3675.585693\n",
              "2018-01-29    3604.731445\n",
              "Name: Adj Close, dtype: float64"
            ]
          },
          "metadata": {},
          "execution_count": 35
        }
      ]
    },
    {
      "cell_type": "code",
      "source": [
        "temp_train = data['Adj Close']\n",
        "temp_train = temp_train[:744]\n",
        "temp_train"
      ],
      "metadata": {
        "colab": {
          "base_uri": "https://localhost:8080/"
        },
        "id": "RiIIVLGA_xsc",
        "outputId": "94c2acaf-f8ff-4848-9e72-c2bbc17b257f"
      },
      "execution_count": null,
      "outputs": [
        {
          "output_type": "execute_result",
          "data": {
            "text/plain": [
              "Date\n",
              "2015-01-02    2430.013184\n",
              "2015-01-05    2408.771973\n",
              "2015-01-06    2391.778809\n",
              "2015-01-07    2387.530518\n",
              "2015-01-08    2408.771973\n",
              "                 ...     \n",
              "2017-12-22    3808.438232\n",
              "2017-12-25    3808.438232\n",
              "2017-12-26    3808.438232\n",
              "2017-12-27    3808.438232\n",
              "2017-12-28    3888.149902\n",
              "Name: Adj Close, Length: 744, dtype: float64"
            ]
          },
          "metadata": {},
          "execution_count": 36
        }
      ]
    },
    {
      "cell_type": "code",
      "source": [
        "train_undiff = predictions + temp_train\n",
        "train_undiff = train_undiff[1:744]\n",
        "train_undiff"
      ],
      "metadata": {
        "colab": {
          "base_uri": "https://localhost:8080/"
        },
        "id": "stUAD7w0AFez",
        "outputId": "8355e49e-65d7-4646-e2ca-6c695fa397e4"
      },
      "execution_count": null,
      "outputs": [
        {
          "output_type": "execute_result",
          "data": {
            "text/plain": [
              "Date\n",
              "2015-01-05    2408.771973\n",
              "2015-01-06    2391.778809\n",
              "2015-01-07    2387.531901\n",
              "2015-01-08    2408.773326\n",
              "2015-01-09    2430.011877\n",
              "                 ...     \n",
              "2017-12-22    3797.391533\n",
              "2017-12-25    3792.324622\n",
              "2017-12-26    3816.009083\n",
              "2017-12-27    3821.936123\n",
              "2017-12-28    3883.283403\n",
              "Length: 743, dtype: float64"
            ]
          },
          "metadata": {},
          "execution_count": 37
        }
      ]
    },
    {
      "cell_type": "code",
      "source": [
        "forecast_undiff = pd.read_csv('/content/TLKM UNDIFF.csv')\n"
      ],
      "metadata": {
        "id": "daDkv9ZiNThS"
      },
      "execution_count": null,
      "outputs": []
    },
    {
      "cell_type": "code",
      "execution_count": null,
      "metadata": {
        "id": "N98lIJEzBi9I",
        "colab": {
          "base_uri": "https://localhost:8080/"
        },
        "outputId": "d174999b-5b39-47b7-83f8-1e7c0121a4ca"
      },
      "outputs": [
        {
          "output_type": "stream",
          "name": "stdout",
          "text": [
            "The Rsquare of forecast is 0.998469864194316\n",
            "The Rsquare of forecast is 0.5799771020907268\n"
          ]
        }
      ],
      "source": [
        "\n",
        "print('The Rsquare of forecast is',r2_score(list(temp_train[2:]), list(train_undiff[1:744])))\n",
        "print('The Rsquare of forecast is',r2_score(list(forecast_undiff['y']), list(forecast_undiff['Hasil'])))"
      ]
    }
  ],
  "metadata": {
    "colab": {
      "collapsed_sections": [],
      "name": "TLKM SARIMA-Stock-Forecasting.ipynb",
      "provenance": [],
      "authorship_tag": "ABX9TyNl/u8WPzVL7fBmwnIYC8im",
      "include_colab_link": true
    },
    "kernelspec": {
      "display_name": "Python 3",
      "name": "python3"
    },
    "language_info": {
      "name": "python"
    }
  },
  "nbformat": 4,
  "nbformat_minor": 0
}